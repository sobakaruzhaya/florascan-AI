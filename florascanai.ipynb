{
  "nbformat": 4,
  "nbformat_minor": 0,
  "metadata": {
    "colab": {
      "provenance": [],
      "gpuType": "T4"
    },
    "kernelspec": {
      "name": "python3",
      "display_name": "Python 3"
    },
    "language_info": {
      "name": "python"
    },
    "accelerator": "GPU"
  },
  "cells": [
    {
      "cell_type": "code",
      "execution_count": null,
      "metadata": {
        "id": "fOgbUc-PEzw0"
      },
      "outputs": [],
      "source": [
        "!pip install ultralytics tqdm pillow --quiet"
      ]
    },
    {
      "cell_type": "code",
      "source": [
        "import os\n",
        "import shutil\n",
        "from pathlib import Path\n",
        "from tqdm import tqdm\n",
        "from sklearn.model_selection import train_test_split\n",
        "from ultralytics import YOLO\n",
        "import PIL.Image as Image"
      ],
      "metadata": {
        "id": "M8Re_UTGF6fK"
      },
      "execution_count": null,
      "outputs": []
    },
    {
      "cell_type": "code",
      "source": [
        "from google.colab import files\n",
        "uploaded = files.upload()\n",
        "for fn in uploaded.keys():\n",
        "    zip_path = f\"/content/{fn}\""
      ],
      "metadata": {
        "id": "NHuzIyTzF7vZ"
      },
      "execution_count": null,
      "outputs": []
    },
    {
      "cell_type": "code",
      "source": [
        "!mkdir -p /content/dataset\n",
        "!unzip -q \"$zip_path\" -d /content/dataset\n"
      ],
      "metadata": {
        "id": "7V0X45tiGA4v"
      },
      "execution_count": null,
      "outputs": []
    },
    {
      "cell_type": "code",
      "source": [
        "project_dir = Path(\"/content/yolo_project\")\n",
        "dataset_dir = Path(\"/content/dataset\")\n",
        "output_dir = project_dir / \"dataset\"\n",
        "os.makedirs(output_dir, exist_ok=True)"
      ],
      "metadata": {
        "id": "9uae5rLaGDgh"
      },
      "execution_count": null,
      "outputs": []
    },
    {
      "cell_type": "code",
      "source": [
        "images_dir = dataset_dir / \"images\"\n",
        "labels_dir = dataset_dir / \"labels\"\n",
        "\n",
        "all_images = sorted(list(images_dir.glob(\"*.jpg\")) + list(images_dir.glob(\"*.png\")))\n",
        "train_imgs, temp_imgs = train_test_split(all_images, test_size=0.3, random_state=42)\n",
        "val_imgs, test_imgs = train_test_split(temp_imgs, test_size=0.5, random_state=42)\n",
        "\n",
        "splits = {\"train\": train_imgs, \"val\": val_imgs, \"test\": test_imgs}\n",
        "\n",
        "def copy_split(split_name, files):\n",
        "    img_dest = output_dir / split_name / \"images\"\n",
        "    lbl_dest = output_dir / split_name / \"labels\"\n",
        "    os.makedirs(img_dest, exist_ok=True)\n",
        "    os.makedirs(lbl_dest, exist_ok=True)\n",
        "    for img_path in tqdm(files, desc=f\"Копируем {split_name}\"):\n",
        "        shutil.copy(img_path, img_dest / img_path.name)\n",
        "        label_path = labels_dir / f\"{img_path.stem}.txt\"\n",
        "        if label_path.exists():\n",
        "            shutil.copy(label_path, lbl_dest / label_path.name)\n",
        "\n",
        "for split_name, files in splits.items():\n",
        "    copy_split(split_name, files)\n",
        "\n",
        "print(\"✅ Train/Val/Test готов!\")"
      ],
      "metadata": {
        "id": "L_1-jJYcGGaL"
      },
      "execution_count": null,
      "outputs": []
    },
    {
      "cell_type": "code",
      "source": [
        "classes_file = dataset_dir / \"classes.txt\"\n",
        "with open(classes_file, \"r\") as f:\n",
        "    class_names = [line.strip() for line in f if line.strip()]\n",
        "num_classes = len(class_names)\n",
        "print(f\"✅ Классы: {class_names}\")"
      ],
      "metadata": {
        "id": "wDGd4iADGI6c"
      },
      "execution_count": null,
      "outputs": []
    },
    {
      "cell_type": "code",
      "source": [
        "yaml_path = project_dir / \"data.yaml\"\n",
        "yaml_content = f\"\"\"\n",
        "train: {output_dir}/train/images\n",
        "val: {output_dir}/val/images\n",
        "test: {output_dir}/test/images\n",
        "nc: {num_classes}\n",
        "names: {class_names}\n",
        "\"\"\"\n",
        "with open(yaml_path, \"w\") as f:\n",
        "    f.write(yaml_content)\n",
        "print(f\"✅ YAML-файл создан: {yaml_path}\")"
      ],
      "metadata": {
        "id": "sQsRFAxpGK9d"
      },
      "execution_count": null,
      "outputs": []
    },
    {
      "cell_type": "code",
      "source": [
        "model = YOLO(\"yolov8x.pt\")\n",
        "\n",
        "model.train(\n",
        "    data=\"/content/yolo_project/data.yaml\",\n",
        "    epochs=30,\n",
        "    imgsz=640,\n",
        "    batch=8,\n",
        "    lr0=1e-3,\n",
        "    patience=10,\n",
        "    optimizer=\"Adam\",\n",
        "    mosaic=0.5,\n",
        "    mixup=0.2,\n",
        "    hsv_h=0.015,\n",
        "    hsv_s=0.7,\n",
        "    hsv_v=0.4,\n",
        "    flipud=0.3,\n",
        "    fliplr=0.5,\n",
        "    degrees=15,\n",
        "    shear=5,\n",
        "    name=\"small_dataset_yolov8x\"\n",
        ")\n",
        "\n",
        "print(\"✅ Обучение завершено!\")"
      ],
      "metadata": {
        "collapsed": true,
        "id": "hRPRGL59GNnC"
      },
      "execution_count": null,
      "outputs": []
    },
    {
      "cell_type": "code",
      "source": [
        "metrics = model.val()\n",
        "print(\"📊 Результаты валидации:\", metrics)"
      ],
      "metadata": {
        "collapsed": true,
        "id": "KbN4umjRGORq"
      },
      "execution_count": null,
      "outputs": []
    },
    {
      "cell_type": "code",
      "source": [
        "from google.colab import files\n",
        "\n",
        "print(\"📤 Загрузите фото для проверки:\")\n",
        "uploaded = files.upload()\n",
        "\n",
        "for filename in uploaded.keys():\n",
        "    test_image_path = f\"/content/{filename}\"\n",
        "    print(f\"📷 Проверяем изображение: {test_image_path}\")\n",
        "\n",
        "\n",
        "    results = model.predict(\n",
        "        source=test_image_path,\n",
        "        conf=0.5,\n",
        "        save=True,\n",
        "        show=False\n",
        "    )\n",
        "\n",
        "\n",
        "    result_image = results[0].plot()\n",
        "    display(Image.fromarray(result_image))\n",
        "    print(\"✅ Предсказание завершено! Результат также сохранён в runs/detect/predict\")"
      ],
      "metadata": {
        "id": "esrUv8xAGVPZ"
      },
      "execution_count": null,
      "outputs": []
    }
  ]
}